{
 "cells": [
  {
   "cell_type": "code",
   "execution_count": null,
   "metadata": {},
   "outputs": [
    {
     "name": "stdout",
     "output_type": "stream",
     "text": [
      "Welcome to the Next Prime Number generator!\n"
     ]
    }
   ],
   "source": [
    "def is_prime(n):\n",
    "    \n",
    "    for i in range(2, n):\n",
    "        if n % i == 0:\n",
    "            return False\n",
    "    return True\n",
    "\n",
    "\n",
    "\n",
    "\n",
    "\n",
    "def see_next():\n",
    "    \n",
    "    see_next_prime = input(\"Would you like to see the next prime number? Please enter yes or no.\")\n",
    "    \n",
    "    while True:\n",
    "\n",
    "        if see_next_prime.lower()[0] not in ['y', 'n']:\n",
    "            see_next_prime = input(\"Oops - please enter yes or no!\")\n",
    "        else:\n",
    "            break\n",
    "    \n",
    "    return see_next_prime[0]\n",
    "    \n",
    "    \n",
    "\n",
    "\n",
    "\n",
    "def choose_number():\n",
    "    \n",
    "\n",
    "    n = int(input(\"Please choose a number.\"))\n",
    "    \n",
    "    while True:\n",
    "        \n",
    "        if type(n)!= int:\n",
    "            print(\"Oops! Please choose a valid integer.\")\n",
    "        else:\n",
    "            break\n",
    "            \n",
    "    return n\n",
    "    \n",
    "    \n",
    "\n",
    "    \n",
    "\n",
    "def main():\n",
    "    \n",
    "    print (\"Welcome to the Next Prime Number generator!\")\n",
    "\n",
    "    n = choose_number()\n",
    "    while True:\n",
    "        if not is_prime(n):\n",
    "            n += 1\n",
    "        else:\n",
    "            print(\"{} is the next prime number.\".format(n))\n",
    "            n += 1\n",
    "            if see_next() == 'n':\n",
    "                break\n",
    "\n",
    "    print (\"Thank you for using the NPN generator!\")\n",
    "    \n",
    "    \n",
    "    \n",
    "if __name__ == \"__main__\":\n",
    "    main()\n",
    "\n",
    "    \n"
   ]
  },
  {
   "cell_type": "code",
   "execution_count": null,
   "metadata": {},
   "outputs": [],
   "source": []
  }
 ],
 "metadata": {
  "kernelspec": {
   "display_name": "Python 3",
   "language": "python",
   "name": "python3"
  }
 },
 "nbformat": 4,
 "nbformat_minor": 2
}
