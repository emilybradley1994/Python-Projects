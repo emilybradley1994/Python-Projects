{
 "cells": [
  {
   "cell_type": "code",
   "execution_count": 5,
   "metadata": {},
   "outputs": [
    {
     "name": "stdout",
     "output_type": "stream",
     "text": [
      "Choose number of decimals, up to 50: 45\n",
      "Pi to 45 decimal places = 3.141592653589793238462643383279502884197169399\n"
     ]
    }
   ],
   "source": [
    "from mpmath import mp\n",
    "\n",
    "def find_pi(n):\n",
    "    \n",
    "        \n",
    "    mp.dps = n+1\n",
    "    \n",
    "    print (\"Pi to {} decimal places = {}\".format(n, str(mp.pi)[:(n+2)])) \n",
    "\n",
    "\n",
    "def input_values():\n",
    "    \n",
    "    limit = 50\n",
    "    \n",
    "    while True:\n",
    "        \n",
    "        try:\n",
    "            decimals = int(input(\"Choose number of decimals, up to {}: \".format(str(limit))))\n",
    "        except:\n",
    "            print (\"Please input a valid integer.\")\n",
    "        else:\n",
    "            if 0<decimals<limit:\n",
    "                break\n",
    "            else:\n",
    "                print (\"Please choose a number between 0 and {}.\".format(str(limit)))\n",
    "                \n",
    "    return decimals\n",
    "        \n",
    "    \n",
    "def main():\n",
    "    \n",
    "     return find_pi(input_values())\n",
    "    \n",
    "    \n",
    "if __name__ == \"__main__\":\n",
    "    main()\n",
    "        \n",
    "        \n",
    "        \n",
    "    \n",
    "    \n",
    "\n"
   ]
  },
  {
   "cell_type": "code",
   "execution_count": null,
   "metadata": {},
   "outputs": [],
   "source": []
  }
 ],
 "metadata": {
  "kernelspec": {
   "display_name": "Python 3",
   "language": "python",
   "name": "python3"
  },
  "language_info": {
   "codemirror_mode": {
    "name": "ipython",
    "version": 3
   },
   "file_extension": ".py",
   "mimetype": "text/x-python",
   "name": "python",
   "nbconvert_exporter": "python",
   "pygments_lexer": "ipython3",
   "version": "3.7.4"
  }
 },
 "nbformat": 4,
 "nbformat_minor": 2
}
